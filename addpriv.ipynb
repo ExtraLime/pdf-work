{
 "cells": [
  {
   "cell_type": "code",
   "execution_count": 80,
   "metadata": {
    "scrolled": true
   },
   "outputs": [],
   "source": [
    "from PyPDF2 import PdfFileWriter, PdfFileReader\n",
    "import io\n",
    "from reportlab.pdfgen import canvas\n",
    "from reportlab.lib.pagesizes import A4\n",
    "from reportlab.lib.colors import pink, green, brown, white, red\n",
    "pdf = PdfFileReader('21-f13-d2.pdf')\n",
    "pdf_writer = PdfFileWriter()\n",
    "\n",
    "\n",
    "def add_priv(pdf):\n",
    "\n",
    "    for page in range(pdf.getNumPages()):\n",
    "        packet = io.BytesIO()\n",
    "\n",
    "        can = canvas.Canvas(packet, pagesize=A4)\n",
    "        \n",
    "        can.setFillColor(red)\n",
    "        \n",
    "        can.setFont(\"Helvetica-Bold\", 16)\n",
    "        can.drawString(85, 60, \"PRIVILEGED\")\n",
    "        \n",
    "        can.setFont(\"Helvetica-Bold\", 12)\n",
    "        can.drawString(58, 43, \"Subject to Protective Order\")\n",
    "        \n",
    "        \n",
    "        can.save()\n",
    "        packet.seek(0)\n",
    "        watermark = PdfFileReader(packet)\n",
    "        watermark_page = watermark.getPage(0)\n",
    "\n",
    "\n",
    "\n",
    "        pdf_page = pdf.getPage(page)\n",
    "        pdf_page.mergePage(watermark_page)\n",
    "        pdf_writer.addPage(pdf_page)\n",
    "\n",
    "    with open('out-f1-d1.pdf', 'wb') as fh:\n",
    "        pdf_writer.write(fh) "
   ]
  },
  {
   "cell_type": "code",
   "execution_count": 81,
   "metadata": {},
   "outputs": [],
   "source": [
    "add_priv(pdf)"
   ]
  },
  {
   "cell_type": "code",
   "execution_count": 83,
   "metadata": {},
   "outputs": [],
   "source": [
    "pdf = PdfFileReader('final1-14/finalout.pdf')\n",
    "pdf_writer = PdfFileWriter()\n",
    "#pdf.getNumPages()\n",
    "for page in range(pdf.getNumPages()):\n",
    "    packet = io.BytesIO()\n",
    "\n",
    "    can = canvas.Canvas(packet, pagesize=A4)\n",
    "\n",
    "\n",
    "    can.drawString(525, 30, \"JLMT - \" + str(page + 1) )\n",
    "    can.save()\n",
    "    packet.seek(0)\n",
    "    watermark = PdfFileReader(packet)\n",
    "    watermark_page = watermark.getPage(0)\n",
    "\n",
    "\n",
    "\n",
    "    pdf_page = pdf.getPage(page)\n",
    "    pdf_page.mergePage(watermark_page)\n",
    "    pdf_writer.addPage(pdf_page)\n",
    "\n",
    "with open('out.pdf', 'wb') as fh:\n",
    "    pdf_writer.write(fh)"
   ]
  },
  {
   "cell_type": "code",
   "execution_count": null,
   "metadata": {},
   "outputs": [],
   "source": []
  }
 ],
 "metadata": {
  "kernelspec": {
   "display_name": "Python 3",
   "language": "python",
   "name": "python3"
  },
  "language_info": {
   "codemirror_mode": {
    "name": "ipython",
    "version": 3
   },
   "file_extension": ".py",
   "mimetype": "text/x-python",
   "name": "python",
   "nbconvert_exporter": "python",
   "pygments_lexer": "ipython3",
   "version": "3.8.2"
  }
 },
 "nbformat": 4,
 "nbformat_minor": 4
}
